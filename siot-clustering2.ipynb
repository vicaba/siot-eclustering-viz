{
 "cells": [
  {
   "cell_type": "code",
   "execution_count": 1,
   "metadata": {},
   "outputs": [],
   "source": [
    "from pandas.io.json import json_normalize\n",
    "import numpy as np\n",
    "import pandas as pd\n",
    "import matplotlib.pyplot as plt\n",
    "import matplotlib.colors as colors\n",
    "from matplotlib import cm\n",
    "import matplotlib.cm as cmx\n",
    "from mpl_toolkits.mplot3d import Axes3D\n",
    "from matplotlib.ticker import MaxNLocator"
   ]
  },
  {
   "cell_type": "code",
   "execution_count": 3,
   "metadata": {},
   "outputs": [],
   "source": [
    "#clusters = pd.read_json(\"./files/cluster.json\")"
   ]
  },
  {
   "cell_type": "code",
   "execution_count": 4,
   "metadata": {},
   "outputs": [],
   "source": [
    "def plotSteps(data):\n",
    "    for runIdx in range(0, len(data)):\n",
    "        fig, ax = plt.subplots()\n",
    "        iteration = data.iloc[runIdx][\"iteration\"]\n",
    "        clusters = data.iloc[runIdx][\"clusters\"]\n",
    "        norm = colors.Normalize(vmin=0, vmax=len(clusters))\n",
    "        print(\"iteration: %s, clusters: %s\" % (iteration, len(clusters)))\n",
    "        for cIdx in range(0, len(clusters)):\n",
    "            rgba_color = cm.gnuplot(norm(cIdx))\n",
    "            pointsX = [point[0] for point in clusters[cIdx][\"points\"]]\n",
    "            pointsY = [point[1] for point in clusters[cIdx][\"points\"]]\n",
    "            ax.scatter(pointsX, pointsY, color=rgba_color)\n",
    "            ax.scatter(clusters[cIdx][\"centroid\"][0], clusters[cIdx][\"centroid\"][1], color=rgba_color, marker=\"+\")\n",
    "\n",
    "        plt.show()"
   ]
  },
  {
   "cell_type": "code",
   "execution_count": 5,
   "metadata": {},
   "outputs": [
    {
     "ename": "NameError",
     "evalue": "name 'clusters' is not defined",
     "output_type": "error",
     "traceback": [
      "\u001b[0;31m---------------------------------------------------------------------------\u001b[0m",
      "\u001b[0;31mNameError\u001b[0m                                 Traceback (most recent call last)",
      "\u001b[0;32m<ipython-input-5-c37a9d2f38c3>\u001b[0m in \u001b[0;36m<module>\u001b[0;34m\u001b[0m\n\u001b[0;32m----> 1\u001b[0;31m \u001b[0mplotSteps\u001b[0m\u001b[0;34m(\u001b[0m\u001b[0mclusters\u001b[0m\u001b[0;34m)\u001b[0m\u001b[0;34m\u001b[0m\u001b[0;34m\u001b[0m\u001b[0m\n\u001b[0m",
      "\u001b[0;31mNameError\u001b[0m: name 'clusters' is not defined"
     ]
    }
   ],
   "source": [
    "plotSteps(clusters)"
   ]
  },
  {
   "cell_type": "code",
   "execution_count": 6,
   "metadata": {},
   "outputs": [],
   "source": [
    "def plot(data):\n",
    "    for runIdx in range(0, len(data)):\n",
    "        fig, ax = plt.subplots()\n",
    "        clusters_step1 = data.iloc[runIdx][\"steps\"][0][\"clusters\"]\n",
    "        clusters_step2 = data.iloc[runIdx][\"steps\"][1][\"clusters\"]\n",
    "        norm = colors.Normalize(vmin=0, vmax=len(clusters_step1))\n",
    "        for cIdx in range(0, len(clusters_step1)):\n",
    "            rgba_color = cm.gnuplot(norm(cIdx))\n",
    "            ax.plot(clusters_step1[cIdx][\"syntheticCenter\"], \"--\", color=rgba_color, label=\"cluster %s\" % cIdx)\n",
    "            ax.plot(clusters_step2[cIdx][\"syntheticCenter\"], color=rgba_color, label=\"cluster %s - rescheduled\" % cIdx)\n",
    "            print(clusters_step2[cIdx][\"metric\"])\n",
    "        ax.legend(bbox_to_anchor=(1, -0.3), loc=4, borderaxespad=0.)\n",
    "\n",
    "        ax.set(xlabel='Hours', ylabel='Power (kW)',title='')\n",
    "        plt.show()"
   ]
  },
  {
   "cell_type": "code",
   "execution_count": 7,
   "metadata": {},
   "outputs": [],
   "source": [
    "def plot_aggm(summary, file_name=None): \n",
    "    fig, ax = plt.subplots()\n",
    "    rgba_color = cm.gnuplot(norm(0))\n",
    "    ax.plot(range(1, len(summary[\"s1. agg m\"]) + 1), summary[\"s1. agg m\"], \"--\", color=rgba_color, label=\"s1. agg m\")\n",
    "    ax.plot(range(1, len(summary[\"s2. agg m\"]) + 1), summary[\"s2. agg m\"], color=rgba_color, label=\"s2. agg m\")\n",
    "    lgd = ax.legend(bbox_to_anchor=(1, -0.3), loc=4, borderaxespad=0.)\n",
    "    ax.set(xlabel='K clusters', ylabel='Aggregate PAR',title='')\n",
    "    plt.show()\n",
    "    if file_name is not None:\n",
    "        fig.savefig(file_name, bbox_extra_artists=(lgd,), bbox_inches='tight')\n",
    "    return fig\n",
    "    \n",
    "def plot_maxm(summary, file_name=None): \n",
    "    fig, ax = plt.subplots()\n",
    "    rgba_color = cm.gnuplot(norm(0))\n",
    "    ax.plot(range(1, len(summary[\"s1. agg m\"]) + 1), summary[\"s1. max m\"], \"--\", color=rgba_color, label=\"s1. max m\")\n",
    "    ax.plot(range(1, len(summary[\"s2. agg m\"]) + 1), summary[\"s2. max m\"], color=rgba_color, label=\"s2. max m\")\n",
    "    lgd = ax.legend(bbox_to_anchor=(1, -0.3), loc=4, borderaxespad=0.)\n",
    "    ax.set(xlabel='K clusters', ylabel='Max. Aggregate PAR',title='')\n",
    "    plt.show()\n",
    "    if file_name is not None:\n",
    "        fig.savefig(file_name, bbox_extra_artists=(lgd,), bbox_inches='tight')\n",
    "    return fig\n",
    "    \n",
    "def plot_peak(summary, file_name=None):\n",
    "    fig, ax = plt.subplots()\n",
    "    rgba_color = cm.gnuplot(norm(0))\n",
    "    ax.plot(range(1, len(summary[\"s1. agg m\"]) + 1), summary[\"s1. peak\"], \"--\", color=rgba_color, label=\"s1. peak\")\n",
    "    ax.plot(range(1, len(summary[\"s2. agg m\"]) + 1), summary[\"s2. peak\"], color=rgba_color, label=\"s2. peak\")\n",
    "    lgd = ax.legend(bbox_to_anchor=(1, -0.3), loc=4, borderaxespad=0.)\n",
    "    ax.set(xlabel='K clusters', ylabel='Peak power (kW)',title='')\n",
    "    plt.show()\n",
    "    if file_name is not None:\n",
    "        fig.savefig(file_name, bbox_extra_artists=(lgd,), bbox_inches='tight')\n",
    "    return fig"
   ]
  },
  {
   "cell_type": "markdown",
   "metadata": {},
   "source": [
    "# PAR Aggregate"
   ]
  },
  {
   "cell_type": "code",
   "execution_count": 62,
   "metadata": {},
   "outputs": [],
   "source": [
    "summaryBatch_global = pd.read_json(\"./files/scheduler_tests/scheduler_test/summaryBatch.json\")\n",
    "#summaryBatch_global = summaryBatch_global[[\"k\",\"clusters\",\"s1. agg m\",\"s1. max m\",\"s1. peak\",\"s2. agg m\",\"s2. max m\",\"s2. peak\",\"total m\"]]\n",
    "#batch_global = pd.read_json(\"./files/batch.json\")\n",
    "\n",
    "k = 3\n",
    "sampleSizeMin = 1.0\n",
    "sampleSizeMax = 1.0\n",
    "nSteps = 2\n",
    "\n",
    "\n",
    "def sampleSizeRange():\n",
    "    return (x/10 for x in range(int(sampleSizeMin * 10), int((sampleSizeMax * 10) + 1)))"
   ]
  },
  {
   "cell_type": "code",
   "execution_count": 76,
   "metadata": {
    "scrolled": true
   },
   "outputs": [
    {
     "data": {
      "text/html": [
       "<div>\n",
       "<style scoped>\n",
       "    .dataframe tbody tr th:only-of-type {\n",
       "        vertical-align: middle;\n",
       "    }\n",
       "\n",
       "    .dataframe tbody tr th {\n",
       "        vertical-align: top;\n",
       "    }\n",
       "\n",
       "    .dataframe thead th {\n",
       "        text-align: right;\n",
       "    }\n",
       "</style>\n",
       "<table border=\"1\" class=\"dataframe\">\n",
       "  <thead>\n",
       "    <tr style=\"text-align: right;\">\n",
       "      <th></th>\n",
       "      <th></th>\n",
       "      <th></th>\n",
       "      <th>k</th>\n",
       "      <th>s1. peak</th>\n",
       "      <th>s1. agg m</th>\n",
       "      <th>s1. max m</th>\n",
       "      <th>s1. total m</th>\n",
       "      <th>clusters</th>\n",
       "      <th>s2. peak</th>\n",
       "      <th>s2. agg m</th>\n",
       "      <th>s2. max m</th>\n",
       "      <th>s2. total m</th>\n",
       "    </tr>\n",
       "    <tr>\n",
       "      <th>sampleSize</th>\n",
       "      <th>split</th>\n",
       "      <th>k</th>\n",
       "      <th></th>\n",
       "      <th></th>\n",
       "      <th></th>\n",
       "      <th></th>\n",
       "      <th></th>\n",
       "      <th></th>\n",
       "      <th></th>\n",
       "      <th></th>\n",
       "      <th></th>\n",
       "      <th></th>\n",
       "    </tr>\n",
       "  </thead>\n",
       "  <tbody>\n",
       "    <tr>\n",
       "      <td rowspan=\"3\" valign=\"top\">1.0</td>\n",
       "      <td rowspan=\"3\" valign=\"top\">0</td>\n",
       "      <td>1</td>\n",
       "      <td>1</td>\n",
       "      <td>1244625</td>\n",
       "      <td>1.962355</td>\n",
       "      <td>1.962355</td>\n",
       "      <td>1.962355</td>\n",
       "      <td>[51]</td>\n",
       "      <td>1167909</td>\n",
       "      <td>1.841400</td>\n",
       "      <td>1.841400</td>\n",
       "      <td>1.8414</td>\n",
       "    </tr>\n",
       "    <tr>\n",
       "      <td>2</td>\n",
       "      <td>2</td>\n",
       "      <td>628946</td>\n",
       "      <td>1.004935</td>\n",
       "      <td>1.972190</td>\n",
       "      <td>1.962355</td>\n",
       "      <td>[28, 23]</td>\n",
       "      <td>590309</td>\n",
       "      <td>1.024874</td>\n",
       "      <td>1.890923</td>\n",
       "      <td>1.8414</td>\n",
       "    </tr>\n",
       "    <tr>\n",
       "      <td>3</td>\n",
       "      <td>3</td>\n",
       "      <td>461762</td>\n",
       "      <td>1.030594</td>\n",
       "      <td>2.020031</td>\n",
       "      <td>1.962355</td>\n",
       "      <td>[19, 14, 18]</td>\n",
       "      <td>412265</td>\n",
       "      <td>1.022921</td>\n",
       "      <td>1.886465</td>\n",
       "      <td>1.8414</td>\n",
       "    </tr>\n",
       "  </tbody>\n",
       "</table>\n",
       "</div>"
      ],
      "text/plain": [
       "                    k  s1. peak  s1. agg m  s1. max m  s1. total m  \\\n",
       "sampleSize split k                                                   \n",
       "1.0        0     1  1   1244625   1.962355   1.962355     1.962355   \n",
       "                 2  2    628946   1.004935   1.972190     1.962355   \n",
       "                 3  3    461762   1.030594   2.020031     1.962355   \n",
       "\n",
       "                        clusters  s2. peak  s2. agg m  s2. max m  s2. total m  \n",
       "sampleSize split k                                                             \n",
       "1.0        0     1          [51]   1167909   1.841400   1.841400       1.8414  \n",
       "                 2      [28, 23]    590309   1.024874   1.890923       1.8414  \n",
       "                 3  [19, 14, 18]    412265   1.022921   1.886465       1.8414  "
      ]
     },
     "execution_count": 76,
     "metadata": {},
     "output_type": "execute_result"
    }
   ],
   "source": [
    "index_list = []\n",
    "step_list = []\n",
    "\n",
    "for i in range(0 , len(summaryBatch_global)):\n",
    "    register = summaryBatch_global.iloc[i]\n",
    "    \n",
    "    crossfold = json_normalize(register[\"crossfold\"])\n",
    "    splits = crossfold[\"splits\"].values[0]\n",
    "    steps = summaryBatch_global.iloc[i][\"step\"]\n",
    "    for j in range(0, splits):\n",
    "        step = json_normalize(steps[j])\n",
    "        for ki in range(1, k+1):\n",
    "            index_list.append((float(\"{0:.2f}\".format(crossfold[\"sampleSize\"].values[0])), j, ki))\n",
    "            step_list.append(step.iloc[ki-1])\n",
    "        \n",
    "    \n",
    "json_normalize(summaryBatch_global.iloc[0][\"crossfold\"])\n",
    "json_normalize(summaryBatch_global.iloc[0][\"step\"][0])\n",
    "\n",
    "index = pd.MultiIndex.from_tuples(index_list, names=[\"sampleSize\", \"split\", \"k\"])\n",
    "summaryBatch_global_treated = pd.DataFrame(step_list, index=index)\n",
    "summaryBatch_global_treated"
   ]
  },
  {
   "cell_type": "code",
   "execution_count": 64,
   "metadata": {},
   "outputs": [
    {
     "data": {
      "text/plain": [
       "nan"
      ]
     },
     "execution_count": 64,
     "metadata": {},
     "output_type": "execute_result"
    }
   ],
   "source": [
    "k2 = 2\n",
    "query = f\"k == {k2} and sampleSize == {sampleSizeMin}\"\n",
    "summaryBatch_global_treated.query(query)[\"s1. agg m\"].mean()\n",
    "summaryBatch_global_treated.query(query)[\"s1. max m\"].mean()\n",
    "summaryBatch_global_treated.query(query)[\"s1. peak\"].std()"
   ]
  },
  {
   "cell_type": "code",
   "execution_count": null,
   "metadata": {},
   "outputs": [],
   "source": []
  },
  {
   "cell_type": "code",
   "execution_count": 65,
   "metadata": {},
   "outputs": [],
   "source": [
    "with open('summaryBatch.tex','w') as tf:\n",
    "    tf.write(summaryBatch_global.to_latex())"
   ]
  },
  {
   "cell_type": "code",
   "execution_count": 79,
   "metadata": {},
   "outputs": [
    {
     "data": {
      "text/html": [
       "<div>\n",
       "<style scoped>\n",
       "    .dataframe tbody tr th:only-of-type {\n",
       "        vertical-align: middle;\n",
       "    }\n",
       "\n",
       "    .dataframe tbody tr th {\n",
       "        vertical-align: top;\n",
       "    }\n",
       "\n",
       "    .dataframe thead th {\n",
       "        text-align: right;\n",
       "    }\n",
       "</style>\n",
       "<table border=\"1\" class=\"dataframe\">\n",
       "  <thead>\n",
       "    <tr style=\"text-align: right;\">\n",
       "      <th></th>\n",
       "      <th></th>\n",
       "      <th></th>\n",
       "      <th>s1. agg m</th>\n",
       "      <th>s1. max m</th>\n",
       "      <th>s1. peak</th>\n",
       "      <th>s1. total m</th>\n",
       "      <th>s2. agg m</th>\n",
       "      <th>s2. max m</th>\n",
       "      <th>s2. peak</th>\n",
       "      <th>s2. total m</th>\n",
       "    </tr>\n",
       "    <tr>\n",
       "      <th>sampleSize</th>\n",
       "      <th>metric</th>\n",
       "      <th>k</th>\n",
       "      <th></th>\n",
       "      <th></th>\n",
       "      <th></th>\n",
       "      <th></th>\n",
       "      <th></th>\n",
       "      <th></th>\n",
       "      <th></th>\n",
       "      <th></th>\n",
       "    </tr>\n",
       "  </thead>\n",
       "  <tbody>\n",
       "    <tr>\n",
       "      <td rowspan=\"6\" valign=\"top\">1.0</td>\n",
       "      <td>mean</td>\n",
       "      <td>1</td>\n",
       "      <td>1.962355</td>\n",
       "      <td>1.962355</td>\n",
       "      <td>1244625.0</td>\n",
       "      <td>1.962355</td>\n",
       "      <td>1.841400</td>\n",
       "      <td>1.841400</td>\n",
       "      <td>1167909.0</td>\n",
       "      <td>1.8414</td>\n",
       "    </tr>\n",
       "    <tr>\n",
       "      <td>stdv</td>\n",
       "      <td>1</td>\n",
       "      <td>NaN</td>\n",
       "      <td>NaN</td>\n",
       "      <td>NaN</td>\n",
       "      <td>NaN</td>\n",
       "      <td>NaN</td>\n",
       "      <td>NaN</td>\n",
       "      <td>NaN</td>\n",
       "      <td>NaN</td>\n",
       "    </tr>\n",
       "    <tr>\n",
       "      <td>mean</td>\n",
       "      <td>2</td>\n",
       "      <td>1.004935</td>\n",
       "      <td>1.972190</td>\n",
       "      <td>628946.0</td>\n",
       "      <td>1.962355</td>\n",
       "      <td>1.024874</td>\n",
       "      <td>1.890923</td>\n",
       "      <td>590309.0</td>\n",
       "      <td>1.8414</td>\n",
       "    </tr>\n",
       "    <tr>\n",
       "      <td>stdv</td>\n",
       "      <td>2</td>\n",
       "      <td>NaN</td>\n",
       "      <td>NaN</td>\n",
       "      <td>NaN</td>\n",
       "      <td>NaN</td>\n",
       "      <td>NaN</td>\n",
       "      <td>NaN</td>\n",
       "      <td>NaN</td>\n",
       "      <td>NaN</td>\n",
       "    </tr>\n",
       "    <tr>\n",
       "      <td>mean</td>\n",
       "      <td>3</td>\n",
       "      <td>1.030594</td>\n",
       "      <td>2.020031</td>\n",
       "      <td>461762.0</td>\n",
       "      <td>1.962355</td>\n",
       "      <td>1.022921</td>\n",
       "      <td>1.886465</td>\n",
       "      <td>412265.0</td>\n",
       "      <td>1.8414</td>\n",
       "    </tr>\n",
       "    <tr>\n",
       "      <td>stdv</td>\n",
       "      <td>3</td>\n",
       "      <td>NaN</td>\n",
       "      <td>NaN</td>\n",
       "      <td>NaN</td>\n",
       "      <td>NaN</td>\n",
       "      <td>NaN</td>\n",
       "      <td>NaN</td>\n",
       "      <td>NaN</td>\n",
       "      <td>NaN</td>\n",
       "    </tr>\n",
       "  </tbody>\n",
       "</table>\n",
       "</div>"
      ],
      "text/plain": [
       "                     s1. agg m  s1. max m   s1. peak  s1. total m  s2. agg m  \\\n",
       "sampleSize metric k                                                            \n",
       "1.0        mean   1   1.962355   1.962355  1244625.0     1.962355   1.841400   \n",
       "           stdv   1        NaN        NaN        NaN          NaN        NaN   \n",
       "           mean   2   1.004935   1.972190   628946.0     1.962355   1.024874   \n",
       "           stdv   2        NaN        NaN        NaN          NaN        NaN   \n",
       "           mean   3   1.030594   2.020031   461762.0     1.962355   1.022921   \n",
       "           stdv   3        NaN        NaN        NaN          NaN        NaN   \n",
       "\n",
       "                     s2. max m   s2. peak  s2. total m  \n",
       "sampleSize metric k                                     \n",
       "1.0        mean   1   1.841400  1167909.0       1.8414  \n",
       "           stdv   1        NaN        NaN          NaN  \n",
       "           mean   2   1.890923   590309.0       1.8414  \n",
       "           stdv   2        NaN        NaN          NaN  \n",
       "           mean   3   1.886465   412265.0       1.8414  \n",
       "           stdv   3        NaN        NaN          NaN  "
      ]
     },
     "execution_count": 79,
     "metadata": {},
     "output_type": "execute_result"
    }
   ],
   "source": [
    "index_list = []\n",
    "step_list = []\n",
    "\n",
    "for j in range(1, k+1):\n",
    "    for ssize in sampleSizeRange():\n",
    "        \n",
    "        index_list.append((ssize, \"mean\", j))\n",
    "        query = f\"k == {j} and sampleSize == {ssize}\"\n",
    "        data = {\"s1. agg m\" : summaryBatch_global_treated.query(query)[\"s1. agg m\"].mean(),\n",
    "                \"s1. max m\" : summaryBatch_global_treated.query(query)[\"s1. max m\"].mean(), \n",
    "                \"s1. peak\" : summaryBatch_global_treated.query(query)[\"s1. peak\"].mean(),\n",
    "               \"s1. total m\" : summaryBatch_global_treated.query(query)[\"s1. total m\"].mean()}\n",
    "        index = [\"s1. agg m\",\"s1. max m\",\"s1. peak\", \"s1. total m\"]\n",
    "        if (nSteps >= 2):\n",
    "            data.update({\"s2. agg m\" : summaryBatch_global_treated.query(query)[\"s2. agg m\"].mean(),\n",
    "                \"s2. max m\" : summaryBatch_global_treated.query(query)[\"s2. max m\"].mean(), \n",
    "                \"s2. peak\" : summaryBatch_global_treated.query(query)[\"s2. peak\"].mean(),\n",
    "                        \"s2. total m\" : summaryBatch_global_treated.query(query)[\"s2. total m\"].mean()})\n",
    "            index = index + [\"s2. agg m\",\"s2. max m\",\"s2. peak\", \"s2. total m\"]\n",
    "            \n",
    "        s = pd.Series(data,index=index) \n",
    "        step_list.append(s)\n",
    "        #print(f\"sampleSize = {ssize}, k = {j}\")\n",
    "        \n",
    "        index_list.append((ssize, \"stdv\", j))\n",
    "        query = f\"k == {j} and sampleSize == {ssize}\"\n",
    "        data = {\"s1. agg m\" : summaryBatch_global_treated.query(query)[\"s1. agg m\"].std(),\n",
    "                \"s1. max m\" : summaryBatch_global_treated.query(query)[\"s1. max m\"].std(), \n",
    "                \"s1. peak\" : summaryBatch_global_treated.query(query)[\"s1. peak\"].std(),\n",
    "               \"s1. total m\" : summaryBatch_global_treated.query(query)[\"s1. total m\"].std()}\n",
    "        index = [\"s1. agg m\",\"s1. max m\",\"s1. peak\", \"s1. total m\"]\n",
    "        if (nSteps >= 2):\n",
    "            data.update({\"s2. agg m\" : summaryBatch_global_treated.query(query)[\"s2. agg m\"].std(),\n",
    "                \"s2. max m\" : summaryBatch_global_treated.query(query)[\"s2. max m\"].std(), \n",
    "                \"s2. peak\" : summaryBatch_global_treated.query(query)[\"s2. peak\"].std(),\n",
    "                        \"s2. total m\" : summaryBatch_global_treated.query(query)[\"s2. total m\"].std()})\n",
    "            index = index + [\"s2. agg m\",\"s2. max m\",\"s2. peak\", \"s2. total m\"]\n",
    "            \n",
    "        s = pd.Series(data,index=index) \n",
    "        step_list.append(s)\n",
    "\n",
    "        \n",
    "index = pd.MultiIndex.from_tuples(index_list, names=[\"sampleSize\", \"metric\", \"k\"])\n",
    "summaryBatch_global_statistics = pd.DataFrame(step_list, index=index)\n",
    "summaryBatch_global_statistics"
   ]
  },
  {
   "cell_type": "code",
   "execution_count": 81,
   "metadata": {},
   "outputs": [],
   "source": [
    "def getMetrics(metric, summaryMetric):\n",
    "\n",
    "    index_list = [sampleSizeRange()]\n",
    "    cols = [x for x in range(1, k+1)]\n",
    "    step_list = []\n",
    "\n",
    "    for ssize in sampleSizeRange():\n",
    "        query = f\"sampleSize == {ssize} and metric == \\\"{summaryMetric}\\\" \"\n",
    "        dataAllK = summaryBatch_global_statistics.query(query)[f\"{metric}\"]\n",
    "        dictAllK = {}\n",
    "        for j in range(1, k+1):\n",
    "            d = dataAllK.reset_index().query(f\"k == {j}\")[f\"{metric}\"]\n",
    "            dictAllK[f\"{j}\"] = d.values[0]\n",
    "        s = pd.Series(dictAllK, name=f\"{ssize}\")\n",
    "        step_list.append(s)\n",
    "\n",
    "    return pd.DataFrame(step_list)\n",
    "    \n",
    "mname = \"s1. max m\"\n",
    "mtype = \"mean\"\n",
    "m = getMetrics(mname, mtype)"
   ]
  },
  {
   "cell_type": "code",
   "execution_count": 82,
   "metadata": {},
   "outputs": [
    {
     "data": {
      "text/html": [
       "<div>\n",
       "<style scoped>\n",
       "    .dataframe tbody tr th:only-of-type {\n",
       "        vertical-align: middle;\n",
       "    }\n",
       "\n",
       "    .dataframe tbody tr th {\n",
       "        vertical-align: top;\n",
       "    }\n",
       "\n",
       "    .dataframe thead th {\n",
       "        text-align: right;\n",
       "    }\n",
       "</style>\n",
       "<table border=\"1\" class=\"dataframe\">\n",
       "  <thead>\n",
       "    <tr style=\"text-align: right;\">\n",
       "      <th></th>\n",
       "      <th>1</th>\n",
       "      <th>2</th>\n",
       "      <th>3</th>\n",
       "    </tr>\n",
       "  </thead>\n",
       "  <tbody>\n",
       "    <tr>\n",
       "      <td>1.0</td>\n",
       "      <td>1.962355</td>\n",
       "      <td>1.97219</td>\n",
       "      <td>2.020031</td>\n",
       "    </tr>\n",
       "  </tbody>\n",
       "</table>\n",
       "</div>"
      ],
      "text/plain": [
       "            1        2         3\n",
       "1.0  1.962355  1.97219  2.020031"
      ]
     },
     "execution_count": 82,
     "metadata": {},
     "output_type": "execute_result"
    }
   ],
   "source": [
    "m"
   ]
  },
  {
   "cell_type": "code",
   "execution_count": 83,
   "metadata": {},
   "outputs": [
    {
     "data": {
      "image/png": "[encoded data removed]",
      "text/plain": [
       "<Figure size 432x288 with 1 Axes>"
      ]
     },
     "metadata": {
      "needs_background": "light"
     },
     "output_type": "display_data"
    }
   ],
   "source": [
    "sampleSizes = []\n",
    "kclusters = []\n",
    "values = []\n",
    "m2 = m.drop(columns=[\"1\"])\n",
    "for i in m2.index.values:\n",
    "    for c in m2.columns.values:\n",
    "        sampleSizes.append(float(i))\n",
    "        kclusters.append(int(c))\n",
    "        values.append(m2.loc[i:i, c:c].values[0][0])\n",
    "        \n",
    "fig = plt.figure()\n",
    "ax = Axes3D(fig)\n",
    "ax.yaxis.set_major_locator(MaxNLocator(integer=True))\n",
    "\n",
    "\n",
    "ax.scatter(sampleSizes, kclusters, values, marker='o', c=\"r\")\n",
    "plt.show()"
   ]
  },
  {
   "cell_type": "code",
   "execution_count": 84,
   "metadata": {},
   "outputs": [
    {
     "ename": "KeyError",
     "evalue": "'6'",
     "output_type": "error",
     "traceback": [
      "\u001b[0;31m---------------------------------------------------------------------------\u001b[0m",
      "\u001b[0;31mKeyError\u001b[0m                                  Traceback (most recent call last)",
      "\u001b[0;32m/opt/conda/lib/python3.7/site-packages/pandas/core/indexes/base.py\u001b[0m in \u001b[0;36mget_loc\u001b[0;34m(self, key, method, tolerance)\u001b[0m\n\u001b[1;32m   2896\u001b[0m             \u001b[0;32mtry\u001b[0m\u001b[0;34m:\u001b[0m\u001b[0;34m\u001b[0m\u001b[0;34m\u001b[0m\u001b[0m\n\u001b[0;32m-> 2897\u001b[0;31m                 \u001b[0;32mreturn\u001b[0m \u001b[0mself\u001b[0m\u001b[0;34m.\u001b[0m\u001b[0m_engine\u001b[0m\u001b[0;34m.\u001b[0m\u001b[0mget_loc\u001b[0m\u001b[0;34m(\u001b[0m\u001b[0mkey\u001b[0m\u001b[0;34m)\u001b[0m\u001b[0;34m\u001b[0m\u001b[0;34m\u001b[0m\u001b[0m\n\u001b[0m\u001b[1;32m   2898\u001b[0m             \u001b[0;32mexcept\u001b[0m \u001b[0mKeyError\u001b[0m\u001b[0;34m:\u001b[0m\u001b[0;34m\u001b[0m\u001b[0;34m\u001b[0m\u001b[0m\n",
      "\u001b[0;32mpandas/_libs/index.pyx\u001b[0m in \u001b[0;36mpandas._libs.index.IndexEngine.get_loc\u001b[0;34m()\u001b[0m\n",
      "\u001b[0;32mpandas/_libs/index.pyx\u001b[0m in \u001b[0;36mpandas._libs.index.IndexEngine.get_loc\u001b[0;34m()\u001b[0m\n",
      "\u001b[0;32mpandas/_libs/hashtable_class_helper.pxi\u001b[0m in \u001b[0;36mpandas._libs.hashtable.PyObjectHashTable.get_item\u001b[0;34m()\u001b[0m\n",
      "\u001b[0;32mpandas/_libs/hashtable_class_helper.pxi\u001b[0m in \u001b[0;36mpandas._libs.hashtable.PyObjectHashTable.get_item\u001b[0;34m()\u001b[0m\n",
      "\u001b[0;31mKeyError\u001b[0m: '6'",
      "\nDuring handling of the above exception, another exception occurred:\n",
      "\u001b[0;31mKeyError\u001b[0m                                  Traceback (most recent call last)",
      "\u001b[0;32m<ipython-input-84-41a8be3e351f>\u001b[0m in \u001b[0;36m<module>\u001b[0;34m\u001b[0m\n\u001b[1;32m      2\u001b[0m \u001b[0;34m\u001b[0m\u001b[0m\n\u001b[1;32m      3\u001b[0m \u001b[0mk2\u001b[0m \u001b[0;34m=\u001b[0m \u001b[0;36m6\u001b[0m\u001b[0;34m\u001b[0m\u001b[0;34m\u001b[0m\u001b[0m\n\u001b[0;32m----> 4\u001b[0;31m \u001b[0msampleMaxMDataset\u001b[0m \u001b[0;34m=\u001b[0m \u001b[0mm2\u001b[0m\u001b[0;34m[\u001b[0m\u001b[0mstr\u001b[0m\u001b[0;34m(\u001b[0m\u001b[0mk2\u001b[0m\u001b[0;34m)\u001b[0m\u001b[0;34m]\u001b[0m\u001b[0;34m\u001b[0m\u001b[0;34m\u001b[0m\u001b[0m\n\u001b[0m\u001b[1;32m      5\u001b[0m \u001b[0msampleSizes\u001b[0m \u001b[0;34m=\u001b[0m \u001b[0mlist\u001b[0m\u001b[0;34m(\u001b[0m\u001b[0mmap\u001b[0m\u001b[0;34m(\u001b[0m\u001b[0;32mlambda\u001b[0m \u001b[0mx\u001b[0m\u001b[0;34m:\u001b[0m \u001b[0mfloat\u001b[0m\u001b[0;34m(\u001b[0m\u001b[0mx\u001b[0m\u001b[0;34m)\u001b[0m\u001b[0;34m,\u001b[0m \u001b[0msampleMaxMDataset\u001b[0m\u001b[0;34m.\u001b[0m\u001b[0mindex\u001b[0m\u001b[0;34m.\u001b[0m\u001b[0mvalues\u001b[0m\u001b[0;34m)\u001b[0m\u001b[0;34m)\u001b[0m\u001b[0;34m\u001b[0m\u001b[0;34m\u001b[0m\u001b[0m\n\u001b[1;32m      6\u001b[0m \u001b[0mvalues\u001b[0m \u001b[0;34m=\u001b[0m \u001b[0msampleMaxMDataset\u001b[0m\u001b[0;34m.\u001b[0m\u001b[0mvalues\u001b[0m\u001b[0;34m\u001b[0m\u001b[0;34m\u001b[0m\u001b[0m\n",
      "\u001b[0;32m/opt/conda/lib/python3.7/site-packages/pandas/core/frame.py\u001b[0m in \u001b[0;36m__getitem__\u001b[0;34m(self, key)\u001b[0m\n\u001b[1;32m   2978\u001b[0m             \u001b[0;32mif\u001b[0m \u001b[0mself\u001b[0m\u001b[0;34m.\u001b[0m\u001b[0mcolumns\u001b[0m\u001b[0;34m.\u001b[0m\u001b[0mnlevels\u001b[0m \u001b[0;34m>\u001b[0m \u001b[0;36m1\u001b[0m\u001b[0;34m:\u001b[0m\u001b[0;34m\u001b[0m\u001b[0;34m\u001b[0m\u001b[0m\n\u001b[1;32m   2979\u001b[0m                 \u001b[0;32mreturn\u001b[0m \u001b[0mself\u001b[0m\u001b[0;34m.\u001b[0m\u001b[0m_getitem_multilevel\u001b[0m\u001b[0;34m(\u001b[0m\u001b[0mkey\u001b[0m\u001b[0;34m)\u001b[0m\u001b[0;34m\u001b[0m\u001b[0;34m\u001b[0m\u001b[0m\n\u001b[0;32m-> 2980\u001b[0;31m             \u001b[0mindexer\u001b[0m \u001b[0;34m=\u001b[0m \u001b[0mself\u001b[0m\u001b[0;34m.\u001b[0m\u001b[0mcolumns\u001b[0m\u001b[0;34m.\u001b[0m\u001b[0mget_loc\u001b[0m\u001b[0;34m(\u001b[0m\u001b[0mkey\u001b[0m\u001b[0;34m)\u001b[0m\u001b[0;34m\u001b[0m\u001b[0;34m\u001b[0m\u001b[0m\n\u001b[0m\u001b[1;32m   2981\u001b[0m             \u001b[0;32mif\u001b[0m \u001b[0mis_integer\u001b[0m\u001b[0;34m(\u001b[0m\u001b[0mindexer\u001b[0m\u001b[0;34m)\u001b[0m\u001b[0;34m:\u001b[0m\u001b[0;34m\u001b[0m\u001b[0;34m\u001b[0m\u001b[0m\n\u001b[1;32m   2982\u001b[0m                 \u001b[0mindexer\u001b[0m \u001b[0;34m=\u001b[0m \u001b[0;34m[\u001b[0m\u001b[0mindexer\u001b[0m\u001b[0;34m]\u001b[0m\u001b[0;34m\u001b[0m\u001b[0;34m\u001b[0m\u001b[0m\n",
      "\u001b[0;32m/opt/conda/lib/python3.7/site-packages/pandas/core/indexes/base.py\u001b[0m in \u001b[0;36mget_loc\u001b[0;34m(self, key, method, tolerance)\u001b[0m\n\u001b[1;32m   2897\u001b[0m                 \u001b[0;32mreturn\u001b[0m \u001b[0mself\u001b[0m\u001b[0;34m.\u001b[0m\u001b[0m_engine\u001b[0m\u001b[0;34m.\u001b[0m\u001b[0mget_loc\u001b[0m\u001b[0;34m(\u001b[0m\u001b[0mkey\u001b[0m\u001b[0;34m)\u001b[0m\u001b[0;34m\u001b[0m\u001b[0;34m\u001b[0m\u001b[0m\n\u001b[1;32m   2898\u001b[0m             \u001b[0;32mexcept\u001b[0m \u001b[0mKeyError\u001b[0m\u001b[0;34m:\u001b[0m\u001b[0;34m\u001b[0m\u001b[0;34m\u001b[0m\u001b[0m\n\u001b[0;32m-> 2899\u001b[0;31m                 \u001b[0;32mreturn\u001b[0m \u001b[0mself\u001b[0m\u001b[0;34m.\u001b[0m\u001b[0m_engine\u001b[0m\u001b[0;34m.\u001b[0m\u001b[0mget_loc\u001b[0m\u001b[0;34m(\u001b[0m\u001b[0mself\u001b[0m\u001b[0;34m.\u001b[0m\u001b[0m_maybe_cast_indexer\u001b[0m\u001b[0;34m(\u001b[0m\u001b[0mkey\u001b[0m\u001b[0;34m)\u001b[0m\u001b[0;34m)\u001b[0m\u001b[0;34m\u001b[0m\u001b[0;34m\u001b[0m\u001b[0m\n\u001b[0m\u001b[1;32m   2900\u001b[0m         \u001b[0mindexer\u001b[0m \u001b[0;34m=\u001b[0m \u001b[0mself\u001b[0m\u001b[0;34m.\u001b[0m\u001b[0mget_indexer\u001b[0m\u001b[0;34m(\u001b[0m\u001b[0;34m[\u001b[0m\u001b[0mkey\u001b[0m\u001b[0;34m]\u001b[0m\u001b[0;34m,\u001b[0m \u001b[0mmethod\u001b[0m\u001b[0;34m=\u001b[0m\u001b[0mmethod\u001b[0m\u001b[0;34m,\u001b[0m \u001b[0mtolerance\u001b[0m\u001b[0;34m=\u001b[0m\u001b[0mtolerance\u001b[0m\u001b[0;34m)\u001b[0m\u001b[0;34m\u001b[0m\u001b[0;34m\u001b[0m\u001b[0m\n\u001b[1;32m   2901\u001b[0m         \u001b[0;32mif\u001b[0m \u001b[0mindexer\u001b[0m\u001b[0;34m.\u001b[0m\u001b[0mndim\u001b[0m \u001b[0;34m>\u001b[0m \u001b[0;36m1\u001b[0m \u001b[0;32mor\u001b[0m \u001b[0mindexer\u001b[0m\u001b[0;34m.\u001b[0m\u001b[0msize\u001b[0m \u001b[0;34m>\u001b[0m \u001b[0;36m1\u001b[0m\u001b[0;34m:\u001b[0m\u001b[0;34m\u001b[0m\u001b[0;34m\u001b[0m\u001b[0m\n",
      "\u001b[0;32mpandas/_libs/index.pyx\u001b[0m in \u001b[0;36mpandas._libs.index.IndexEngine.get_loc\u001b[0;34m()\u001b[0m\n",
      "\u001b[0;32mpandas/_libs/index.pyx\u001b[0m in \u001b[0;36mpandas._libs.index.IndexEngine.get_loc\u001b[0;34m()\u001b[0m\n",
      "\u001b[0;32mpandas/_libs/hashtable_class_helper.pxi\u001b[0m in \u001b[0;36mpandas._libs.hashtable.PyObjectHashTable.get_item\u001b[0;34m()\u001b[0m\n",
      "\u001b[0;32mpandas/_libs/hashtable_class_helper.pxi\u001b[0m in \u001b[0;36mpandas._libs.hashtable.PyObjectHashTable.get_item\u001b[0;34m()\u001b[0m\n",
      "\u001b[0;31mKeyError\u001b[0m: '6'"
     ]
    },
    {
     "data": {
      "image/png": "[encoded data removed]",
      "text/plain": [
       "<Figure size 432x288 with 1 Axes>"
      ]
     },
     "metadata": {
      "needs_background": "light"
     },
     "output_type": "display_data"
    }
   ],
   "source": [
    "fig, ax = plt.subplots()\n",
    "\n",
    "k2 = 6\n",
    "sampleMaxMDataset = m2[str(k2)]\n",
    "sampleSizes = list(map(lambda x: float(x), sampleMaxMDataset.index.values))\n",
    "values = sampleMaxMDataset.values\n",
    "ax.plot(sampleSizes, values, \"-\", label=f\"K = {k2}\", c=\"black\")\n",
    "\n",
    "k2 = 4\n",
    "sampleMaxMDataset = m2[str(k2)]\n",
    "sampleSizes = list(map(lambda x: float(x), sampleMaxMDataset.index.values))\n",
    "values = sampleMaxMDataset.values\n",
    "ax.plot(sampleSizes, values, \"--\", label=f\"K = {k2}\", c=\"black\")\n",
    "\n",
    "k2 = 2\n",
    "sampleMaxMDataset = m2[str(k2)]\n",
    "sampleSizes = list(map(lambda x: float(x), sampleMaxMDataset.index.values))\n",
    "values = sampleMaxMDataset.values\n",
    "ax.plot(sampleSizes, values, \"-.\", label=f\"K = {k2}\", c=\"black\")\n",
    "\n",
    "lgd = ax.legend(bbox_to_anchor=(1, -0.35), loc=4, borderaxespad=0.)\n",
    "ax.set(xlabel='Sample Size %', ylabel='Max. Aggregate PAR',title='')\n",
    "plt.show()\n",
    "file_name = \"peakpower_samplesize.pdf\"\n",
    "if file_name is not None:\n",
    "    fig.savefig(file_name, bbox_extra_artists=(lgd,), bbox_inches='tight')\n"
   ]
  },
  {
   "cell_type": "code",
   "execution_count": 88,
   "metadata": {},
   "outputs": [],
   "source": [
    "a = summaryBatch_global_statistics.query(\"sampleSize == 1.0 and metric == \\\"mean\\\"\").reset_index().drop([\"sampleSize\", \"metric\"], axis=1)"
   ]
  },
  {
   "cell_type": "code",
   "execution_count": 89,
   "metadata": {},
   "outputs": [
    {
     "data": {
      "text/html": [
       "<div>\n",
       "<style scoped>\n",
       "    .dataframe tbody tr th:only-of-type {\n",
       "        vertical-align: middle;\n",
       "    }\n",
       "\n",
       "    .dataframe tbody tr th {\n",
       "        vertical-align: top;\n",
       "    }\n",
       "\n",
       "    .dataframe thead th {\n",
       "        text-align: right;\n",
       "    }\n",
       "</style>\n",
       "<table border=\"1\" class=\"dataframe\">\n",
       "  <thead>\n",
       "    <tr style=\"text-align: right;\">\n",
       "      <th></th>\n",
       "      <th>k</th>\n",
       "      <th>clusters</th>\n",
       "      <th>s1. agg m</th>\n",
       "      <th>s1. max m</th>\n",
       "      <th>s1. peak</th>\n",
       "      <th>s2. agg m</th>\n",
       "      <th>s2. max m</th>\n",
       "      <th>s2. peak</th>\n",
       "    </tr>\n",
       "  </thead>\n",
       "  <tbody>\n",
       "    <tr>\n",
       "      <td>0</td>\n",
       "      <td>1</td>\n",
       "      <td>[51]</td>\n",
       "      <td>1.962355</td>\n",
       "      <td>1.962355</td>\n",
       "      <td>1244625.0</td>\n",
       "      <td>1.841400</td>\n",
       "      <td>1.841400</td>\n",
       "      <td>1167909.0</td>\n",
       "    </tr>\n",
       "    <tr>\n",
       "      <td>1</td>\n",
       "      <td>2</td>\n",
       "      <td>[28, 23]</td>\n",
       "      <td>1.004935</td>\n",
       "      <td>1.972190</td>\n",
       "      <td>628946.0</td>\n",
       "      <td>1.024874</td>\n",
       "      <td>1.890923</td>\n",
       "      <td>590309.0</td>\n",
       "    </tr>\n",
       "    <tr>\n",
       "      <td>2</td>\n",
       "      <td>3</td>\n",
       "      <td>[19, 14, 18]</td>\n",
       "      <td>1.030594</td>\n",
       "      <td>2.020031</td>\n",
       "      <td>461762.0</td>\n",
       "      <td>1.022921</td>\n",
       "      <td>1.886465</td>\n",
       "      <td>412265.0</td>\n",
       "    </tr>\n",
       "  </tbody>\n",
       "</table>\n",
       "</div>"
      ],
      "text/plain": [
       "   k      clusters  s1. agg m  s1. max m   s1. peak  s2. agg m  s2. max m  \\\n",
       "0  1          [51]   1.962355   1.962355  1244625.0   1.841400   1.841400   \n",
       "1  2      [28, 23]   1.004935   1.972190   628946.0   1.024874   1.890923   \n",
       "2  3  [19, 14, 18]   1.030594   2.020031   461762.0   1.022921   1.886465   \n",
       "\n",
       "    s2. peak  \n",
       "0  1167909.0  \n",
       "1   590309.0  \n",
       "2   412265.0  "
      ]
     },
     "execution_count": 89,
     "metadata": {},
     "output_type": "execute_result"
    }
   ],
   "source": [
    "_list = {}\n",
    "for j in range(1, k+1):\n",
    "    _list[j - 1] = str(summaryBatch_global_treated.query(f\"sampleSize == 1.0 and k == {j}\").sort_values(by=[\"s1. max m\", \"s1. agg m\"]).iloc[0][\"clusters\"])\n",
    "_list\n",
    "b = pd.DataFrame.from_dict(_list, orient=\"index\", columns=[\"clusters\"])\n",
    "r = pd.concat([a,b], axis=1, sort=False)\n",
    "r = r[[\"k\", \"clusters\", \"s1. agg m\", \"s1. max m\", \"s1. peak\", \"s2. agg m\", \"s2. max m\", \"s2. peak\"]]\n",
    "r"
   ]
  },
  {
   "cell_type": "code",
   "execution_count": 90,
   "metadata": {},
   "outputs": [
    {
     "data": {
      "text/plain": [
       "1    1.962355\n",
       "2    1.004935\n",
       "3    1.030594\n",
       "Name: 1.0, dtype: float64"
      ]
     },
     "execution_count": 90,
     "metadata": {},
     "output_type": "execute_result"
    }
   ],
   "source": [
    "getMetrics(\"s1. agg m\", \"mean\").iloc[-1]"
   ]
  },
  {
   "cell_type": "code",
   "execution_count": 91,
   "metadata": {},
   "outputs": [],
   "source": [
    "with open('summaryBatch.tex','w') as tf:\n",
    "    tf.write(r.to_latex())"
   ]
  },
  {
   "cell_type": "code",
   "execution_count": null,
   "metadata": {},
   "outputs": [],
   "source": []
  },
  {
   "cell_type": "code",
   "execution_count": null,
   "metadata": {},
   "outputs": [],
   "source": []
  },
  {
   "cell_type": "code",
   "execution_count": null,
   "metadata": {},
   "outputs": [],
   "source": []
  },
  {
   "cell_type": "code",
   "execution_count": null,
   "metadata": {},
   "outputs": [],
   "source": []
  },
  {
   "cell_type": "code",
   "execution_count": null,
   "metadata": {},
   "outputs": [],
   "source": []
  },
  {
   "cell_type": "code",
   "execution_count": null,
   "metadata": {},
   "outputs": [],
   "source": []
  },
  {
   "cell_type": "code",
   "execution_count": null,
   "metadata": {},
   "outputs": [],
   "source": []
  },
  {
   "cell_type": "code",
   "execution_count": null,
   "metadata": {},
   "outputs": [],
   "source": []
  }
 ],
 "metadata": {
  "kernelspec": {
   "display_name": "Python 3",
   "language": "python",
   "name": "python3"
  },
  "language_info": {
   "codemirror_mode": {
    "name": "ipython",
    "version": 3
   },
   "file_extension": ".py",
   "mimetype": "text/x-python",
   "name": "python",
   "nbconvert_exporter": "python",
   "pygments_lexer": "ipython3",
   "version": "3.7.3"
  }
 },
 "nbformat": 4,
 "nbformat_minor": 2
}
