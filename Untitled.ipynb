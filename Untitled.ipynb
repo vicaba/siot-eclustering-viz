{
 "cells": [
  {
   "cell_type": "code",
   "execution_count": 80,
   "metadata": {},
   "outputs": [],
   "source": [
    "import pandas as pd\n",
    "import matplotlib.pyplot as plt\n",
    "import matplotlib.colors as colors\n",
    "from matplotlib import cm\n",
    "import matplotlib.cm as cmx"
   ]
  },
  {
   "cell_type": "code",
   "execution_count": 81,
   "metadata": {},
   "outputs": [],
   "source": [
    "clusters = pd.read_json(\"./files/cluster.json\")"
   ]
  },
  {
   "cell_type": "code",
   "execution_count": 82,
   "metadata": {},
   "outputs": [],
   "source": [
    "def plot(data):\n",
    "    for runIdx in range(0, len(data)):\n",
    "        fig, ax = plt.subplots()\n",
    "        iteration = data.iloc[runIdx][\"iteration\"]\n",
    "        clusters = data.iloc[runIdx][\"clusters\"]\n",
    "        norm = colors.Normalize(vmin=0, vmax=len(clusters))\n",
    "        print(\"iteration: %s, clusters: %s\" % (iteration, len(clusters)))\n",
    "        for cIdx in range(0, len(clusters)):\n",
    "            rgba_color = cm.gnuplot(norm(cIdx))\n",
    "            pointsX = [point[0] for point in clusters[cIdx][\"points\"]]\n",
    "            pointsY = [point[0] for point in clusters[cIdx][\"points\"]]\n",
    "            ax.scatter(pointsX, pointsY, color=rgba_color)\n",
    "            ax.scatter(clusters[cIdx][\"centroid\"][0], clusters[cIdx][\"centroid\"][1], color=rgba_color, marker=\"+\")\n",
    "\n",
    "        plt.show()"
   ]
  },
  {
   "cell_type": "code",
   "execution_count": 83,
   "metadata": {},
   "outputs": [
    {
     "name": "stdout",
     "output_type": "stream",
     "text": [
      "iteration: 0, clusters: 5\n"
     ]
    },
    {
     "data": {
      "image/png": "[encoded data removed]",
      "text/plain": [
       "<matplotlib.figure.Figure at 0x7f0227e2cfd0>"
      ]
     },
     "metadata": {},
     "output_type": "display_data"
    },
    {
     "name": "stdout",
     "output_type": "stream",
     "text": [
      "iteration: 1, clusters: 10\n"
     ]
    },
    {
     "data": {
      "image/png": "[encoded data removed]",
      "text/plain": [
       "<matplotlib.figure.Figure at 0x7f022a872898>"
      ]
     },
     "metadata": {},
     "output_type": "display_data"
    },
    {
     "data": {
      "text/plain": [
       "10"
      ]
     },
     "execution_count": 83,
     "metadata": {},
     "output_type": "execute_result"
    }
   ],
   "source": [
    "plot(clusters)\n",
    "clusters.iloc[0][\"clusters\"][0][\"points\"][0]\n",
    "lst2 = [point[0] for point in clusters.iloc[0][\"clusters\"][0][\"points\"]]\n",
    "lst2\n",
    "len(clusters.iloc[1][\"clusters\"])"
   ]
  },
  {
   "cell_type": "code",
   "execution_count": null,
   "metadata": {},
   "outputs": [],
   "source": []
  },
  {
   "cell_type": "code",
   "execution_count": null,
   "metadata": {},
   "outputs": [],
   "source": []
  },
  {
   "cell_type": "code",
   "execution_count": null,
   "metadata": {},
   "outputs": [],
   "source": []
  }
 ],
 "metadata": {
  "kernelspec": {
   "display_name": "Python 3",
   "language": "python",
   "name": "python3"
  },
  "language_info": {
   "codemirror_mode": {
    "name": "ipython",
    "version": 3
   },
   "file_extension": ".py",
   "mimetype": "text/x-python",
   "name": "python",
   "nbconvert_exporter": "python",
   "pygments_lexer": "ipython3",
   "version": "3.6.3"
  }
 },
 "nbformat": 4,
 "nbformat_minor": 2
}
